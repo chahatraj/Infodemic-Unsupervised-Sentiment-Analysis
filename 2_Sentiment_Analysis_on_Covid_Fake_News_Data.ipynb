{
  "nbformat": 4,
  "nbformat_minor": 0,
  "metadata": {
    "colab": {
      "name": "2. Sentiment_Analysis_on_Covid_Fake_News_Data.ipynb",
      "provenance": []
    },
    "kernelspec": {
      "name": "python3",
      "display_name": "Python 3"
    }
  },
  "cells": [
    {
      "cell_type": "markdown",
      "metadata": {
        "id": "oJ6aI7scwt9W"
      },
      "source": [
        "# Sentiment Analysis on TripAdvisor  Data"
      ]
    },
    {
      "cell_type": "markdown",
      "metadata": {
        "id": "56ofXuL-x1Z_"
      },
      "source": [
        "Load the Libraries"
      ]
    },
    {
      "cell_type": "code",
      "metadata": {
        "id": "mRe9ZxHWydIs",
        "colab": {
          "base_uri": "https://localhost:8080/"
        },
        "outputId": "058ea262-6f41-4c09-c978-035cd16ddb6b"
      },
      "source": [
        "!pip install spaCy"
      ],
      "execution_count": 1,
      "outputs": [
        {
          "output_type": "stream",
          "text": [
            "Requirement already satisfied: spaCy in /usr/local/lib/python3.6/dist-packages (2.2.4)\n",
            "Requirement already satisfied: preshed<3.1.0,>=3.0.2 in /usr/local/lib/python3.6/dist-packages (from spaCy) (3.0.4)\n",
            "Requirement already satisfied: setuptools in /usr/local/lib/python3.6/dist-packages (from spaCy) (50.3.2)\n",
            "Requirement already satisfied: tqdm<5.0.0,>=4.38.0 in /usr/local/lib/python3.6/dist-packages (from spaCy) (4.41.1)\n",
            "Requirement already satisfied: numpy>=1.15.0 in /usr/local/lib/python3.6/dist-packages (from spaCy) (1.18.5)\n",
            "Requirement already satisfied: plac<1.2.0,>=0.9.6 in /usr/local/lib/python3.6/dist-packages (from spaCy) (1.1.3)\n",
            "Requirement already satisfied: cymem<2.1.0,>=2.0.2 in /usr/local/lib/python3.6/dist-packages (from spaCy) (2.0.4)\n",
            "Requirement already satisfied: requests<3.0.0,>=2.13.0 in /usr/local/lib/python3.6/dist-packages (from spaCy) (2.23.0)\n",
            "Requirement already satisfied: catalogue<1.1.0,>=0.0.7 in /usr/local/lib/python3.6/dist-packages (from spaCy) (1.0.0)\n",
            "Requirement already satisfied: murmurhash<1.1.0,>=0.28.0 in /usr/local/lib/python3.6/dist-packages (from spaCy) (1.0.4)\n",
            "Requirement already satisfied: srsly<1.1.0,>=1.0.2 in /usr/local/lib/python3.6/dist-packages (from spaCy) (1.0.4)\n",
            "Requirement already satisfied: blis<0.5.0,>=0.4.0 in /usr/local/lib/python3.6/dist-packages (from spaCy) (0.4.1)\n",
            "Requirement already satisfied: wasabi<1.1.0,>=0.4.0 in /usr/local/lib/python3.6/dist-packages (from spaCy) (0.8.0)\n",
            "Requirement already satisfied: thinc==7.4.0 in /usr/local/lib/python3.6/dist-packages (from spaCy) (7.4.0)\n",
            "Requirement already satisfied: urllib3!=1.25.0,!=1.25.1,<1.26,>=1.21.1 in /usr/local/lib/python3.6/dist-packages (from requests<3.0.0,>=2.13.0->spaCy) (1.24.3)\n",
            "Requirement already satisfied: idna<3,>=2.5 in /usr/local/lib/python3.6/dist-packages (from requests<3.0.0,>=2.13.0->spaCy) (2.10)\n",
            "Requirement already satisfied: chardet<4,>=3.0.2 in /usr/local/lib/python3.6/dist-packages (from requests<3.0.0,>=2.13.0->spaCy) (3.0.4)\n",
            "Requirement already satisfied: certifi>=2017.4.17 in /usr/local/lib/python3.6/dist-packages (from requests<3.0.0,>=2.13.0->spaCy) (2020.11.8)\n",
            "Requirement already satisfied: importlib-metadata>=0.20; python_version < \"3.8\" in /usr/local/lib/python3.6/dist-packages (from catalogue<1.1.0,>=0.0.7->spaCy) (2.0.0)\n",
            "Requirement already satisfied: zipp>=0.5 in /usr/local/lib/python3.6/dist-packages (from importlib-metadata>=0.20; python_version < \"3.8\"->catalogue<1.1.0,>=0.0.7->spaCy) (3.4.0)\n"
          ],
          "name": "stdout"
        }
      ]
    },
    {
      "cell_type": "code",
      "metadata": {
        "id": "_gP5sD1Cy0ux",
        "colab": {
          "base_uri": "https://localhost:8080/"
        },
        "outputId": "4e86b7e4-9c25-4569-ebf4-c87792a6648a"
      },
      "source": [
        "!python -m spacy download en_core_web_lg"
      ],
      "execution_count": 3,
      "outputs": [
        {
          "output_type": "stream",
          "text": [
            "Collecting en_core_web_lg==2.2.5\n",
            "\u001b[?25l  Downloading https://github.com/explosion/spacy-models/releases/download/en_core_web_lg-2.2.5/en_core_web_lg-2.2.5.tar.gz (827.9MB)\n",
            "\u001b[K     |████████████████████████████████| 827.9MB 1.2MB/s \n",
            "\u001b[?25hRequirement already satisfied: spacy>=2.2.2 in /usr/local/lib/python3.6/dist-packages (from en_core_web_lg==2.2.5) (2.2.4)\n",
            "Requirement already satisfied: blis<0.5.0,>=0.4.0 in /usr/local/lib/python3.6/dist-packages (from spacy>=2.2.2->en_core_web_lg==2.2.5) (0.4.1)\n",
            "Requirement already satisfied: cymem<2.1.0,>=2.0.2 in /usr/local/lib/python3.6/dist-packages (from spacy>=2.2.2->en_core_web_lg==2.2.5) (2.0.4)\n",
            "Requirement already satisfied: srsly<1.1.0,>=1.0.2 in /usr/local/lib/python3.6/dist-packages (from spacy>=2.2.2->en_core_web_lg==2.2.5) (1.0.4)\n",
            "Requirement already satisfied: thinc==7.4.0 in /usr/local/lib/python3.6/dist-packages (from spacy>=2.2.2->en_core_web_lg==2.2.5) (7.4.0)\n",
            "Requirement already satisfied: murmurhash<1.1.0,>=0.28.0 in /usr/local/lib/python3.6/dist-packages (from spacy>=2.2.2->en_core_web_lg==2.2.5) (1.0.4)\n",
            "Requirement already satisfied: preshed<3.1.0,>=3.0.2 in /usr/local/lib/python3.6/dist-packages (from spacy>=2.2.2->en_core_web_lg==2.2.5) (3.0.4)\n",
            "Requirement already satisfied: numpy>=1.15.0 in /usr/local/lib/python3.6/dist-packages (from spacy>=2.2.2->en_core_web_lg==2.2.5) (1.18.5)\n",
            "Requirement already satisfied: plac<1.2.0,>=0.9.6 in /usr/local/lib/python3.6/dist-packages (from spacy>=2.2.2->en_core_web_lg==2.2.5) (1.1.3)\n",
            "Requirement already satisfied: setuptools in /usr/local/lib/python3.6/dist-packages (from spacy>=2.2.2->en_core_web_lg==2.2.5) (50.3.2)\n",
            "Requirement already satisfied: tqdm<5.0.0,>=4.38.0 in /usr/local/lib/python3.6/dist-packages (from spacy>=2.2.2->en_core_web_lg==2.2.5) (4.41.1)\n",
            "Requirement already satisfied: wasabi<1.1.0,>=0.4.0 in /usr/local/lib/python3.6/dist-packages (from spacy>=2.2.2->en_core_web_lg==2.2.5) (0.8.0)\n",
            "Requirement already satisfied: catalogue<1.1.0,>=0.0.7 in /usr/local/lib/python3.6/dist-packages (from spacy>=2.2.2->en_core_web_lg==2.2.5) (1.0.0)\n",
            "Requirement already satisfied: requests<3.0.0,>=2.13.0 in /usr/local/lib/python3.6/dist-packages (from spacy>=2.2.2->en_core_web_lg==2.2.5) (2.23.0)\n",
            "Requirement already satisfied: importlib-metadata>=0.20; python_version < \"3.8\" in /usr/local/lib/python3.6/dist-packages (from catalogue<1.1.0,>=0.0.7->spacy>=2.2.2->en_core_web_lg==2.2.5) (2.0.0)\n",
            "Requirement already satisfied: idna<3,>=2.5 in /usr/local/lib/python3.6/dist-packages (from requests<3.0.0,>=2.13.0->spacy>=2.2.2->en_core_web_lg==2.2.5) (2.10)\n",
            "Requirement already satisfied: certifi>=2017.4.17 in /usr/local/lib/python3.6/dist-packages (from requests<3.0.0,>=2.13.0->spacy>=2.2.2->en_core_web_lg==2.2.5) (2020.11.8)\n",
            "Requirement already satisfied: urllib3!=1.25.0,!=1.25.1,<1.26,>=1.21.1 in /usr/local/lib/python3.6/dist-packages (from requests<3.0.0,>=2.13.0->spacy>=2.2.2->en_core_web_lg==2.2.5) (1.24.3)\n",
            "Requirement already satisfied: chardet<4,>=3.0.2 in /usr/local/lib/python3.6/dist-packages (from requests<3.0.0,>=2.13.0->spacy>=2.2.2->en_core_web_lg==2.2.5) (3.0.4)\n",
            "Requirement already satisfied: zipp>=0.5 in /usr/local/lib/python3.6/dist-packages (from importlib-metadata>=0.20; python_version < \"3.8\"->catalogue<1.1.0,>=0.0.7->spacy>=2.2.2->en_core_web_lg==2.2.5) (3.4.0)\n",
            "Building wheels for collected packages: en-core-web-lg\n",
            "  Building wheel for en-core-web-lg (setup.py) ... \u001b[?25l\u001b[?25hdone\n",
            "  Created wheel for en-core-web-lg: filename=en_core_web_lg-2.2.5-cp36-none-any.whl size=829180944 sha256=187ae4d476aff04cb00345ef9324695a55aee35a11ace339d171e82039b14ce6\n",
            "  Stored in directory: /tmp/pip-ephem-wheel-cache-m_sasve0/wheels/2a/c1/a6/fc7a877b1efca9bc6a089d6f506f16d3868408f9ff89f8dbfc\n",
            "Successfully built en-core-web-lg\n",
            "Installing collected packages: en-core-web-lg\n",
            "Successfully installed en-core-web-lg-2.2.5\n",
            "\u001b[38;5;2m✔ Download and installation successful\u001b[0m\n",
            "You can now load the model via spacy.load('en_core_web_lg')\n"
          ],
          "name": "stdout"
        }
      ]
    },
    {
      "cell_type": "code",
      "metadata": {
        "id": "KhBIdBYM0Oxh"
      },
      "source": [
        "import spacy\n",
        "nlp = spacy.load('en_core_web_lg')"
      ],
      "execution_count": 1,
      "outputs": []
    },
    {
      "cell_type": "code",
      "metadata": {
        "id": "2ITfTRB9048w",
        "colab": {
          "base_uri": "https://localhost:8080/"
        },
        "outputId": "3aca0577-536a-430a-848a-d05c30700d11"
      },
      "source": [
        "import nltk\n",
        "nltk.download(\"stopwords\")"
      ],
      "execution_count": 2,
      "outputs": [
        {
          "output_type": "stream",
          "text": [
            "[nltk_data] Downloading package stopwords to /root/nltk_data...\n",
            "[nltk_data]   Unzipping corpora/stopwords.zip.\n"
          ],
          "name": "stdout"
        },
        {
          "output_type": "execute_result",
          "data": {
            "text/plain": [
              "True"
            ]
          },
          "metadata": {
            "tags": []
          },
          "execution_count": 2
        }
      ]
    },
    {
      "cell_type": "code",
      "metadata": {
        "id": "MNB3q9s510r3",
        "colab": {
          "base_uri": "https://localhost:8080/"
        },
        "outputId": "db869df6-6415-43ba-e03f-adb0cb2c6b92"
      },
      "source": [
        "!pip install beautifulsoup4"
      ],
      "execution_count": 3,
      "outputs": [
        {
          "output_type": "stream",
          "text": [
            "Requirement already satisfied: beautifulsoup4 in /usr/local/lib/python3.6/dist-packages (4.6.3)\n"
          ],
          "name": "stdout"
        }
      ]
    },
    {
      "cell_type": "code",
      "metadata": {
        "id": "OvTeHF-b2_fO",
        "colab": {
          "base_uri": "https://localhost:8080/"
        },
        "outputId": "8f3e9c16-6c11-4da9-9822-0bcfdff67622"
      },
      "source": [
        "nltk.download('averaged_perceptron_tagger')"
      ],
      "execution_count": 4,
      "outputs": [
        {
          "output_type": "stream",
          "text": [
            "[nltk_data] Downloading package averaged_perceptron_tagger to\n",
            "[nltk_data]     /root/nltk_data...\n",
            "[nltk_data]   Unzipping taggers/averaged_perceptron_tagger.zip.\n"
          ],
          "name": "stdout"
        },
        {
          "output_type": "execute_result",
          "data": {
            "text/plain": [
              "True"
            ]
          },
          "metadata": {
            "tags": []
          },
          "execution_count": 4
        }
      ]
    },
    {
      "cell_type": "code",
      "metadata": {
        "id": "im2kFEM1373-",
        "colab": {
          "base_uri": "https://localhost:8080/"
        },
        "outputId": "239e6b83-548e-451b-c236-99e0d00460fc"
      },
      "source": [
        "nltk.download('conll2000')"
      ],
      "execution_count": 5,
      "outputs": [
        {
          "output_type": "stream",
          "text": [
            "[nltk_data] Downloading package conll2000 to /root/nltk_data...\n",
            "[nltk_data]   Unzipping corpora/conll2000.zip.\n"
          ],
          "name": "stdout"
        },
        {
          "output_type": "execute_result",
          "data": {
            "text/plain": [
              "True"
            ]
          },
          "metadata": {
            "tags": []
          },
          "execution_count": 5
        }
      ]
    },
    {
      "cell_type": "code",
      "metadata": {
        "id": "RAq5rJKRyB5P"
      },
      "source": [
        "import requests\n",
        "from bs4 import BeautifulSoup\n",
        "import pandas as pd\n",
        "import numpy as np\n",
        "import matplotlib.pyplot as plt\n",
        "import seaborn as sns\n",
        "import os\n",
        "\n",
        "%matplotlib inline"
      ],
      "execution_count": 7,
      "outputs": []
    },
    {
      "cell_type": "markdown",
      "metadata": {
        "id": "zqseV0axykDx"
      },
      "source": [
        "Upload Data"
      ]
    },
    {
      "cell_type": "code",
      "metadata": {
        "colab": {
          "base_uri": "https://localhost:8080/"
        },
        "id": "iffFjjVuv7Y5",
        "outputId": "cf36e0ce-b346-4d33-e484-3484b6585558"
      },
      "source": [
        "from google.colab import drive\n",
        "drive.mount('/content/drive', force_remount=True)"
      ],
      "execution_count": 8,
      "outputs": [
        {
          "output_type": "stream",
          "text": [
            "Mounted at /content/drive\n"
          ],
          "name": "stdout"
        }
      ]
    },
    {
      "cell_type": "code",
      "metadata": {
        "id": "pZ7kvoJQwBZF"
      },
      "source": [
        "import os\n",
        "PATH = os.getcwd()\n",
        "DATADIR = PATH + '/drive/My Drive/Long.csv'"
      ],
      "execution_count": 9,
      "outputs": []
    },
    {
      "cell_type": "code",
      "metadata": {
        "colab": {
          "base_uri": "https://localhost:8080/"
        },
        "id": "7RMZp2MuwPjA",
        "outputId": "dc4b1343-0608-4045-bebd-0584ea14c205"
      },
      "source": [
        "#Read data\n",
        "df = pd.read_csv(DATADIR)\n",
        "df.shape"
      ],
      "execution_count": 10,
      "outputs": [
        {
          "output_type": "execute_result",
          "data": {
            "text/plain": [
              "(4518, 4)"
            ]
          },
          "metadata": {
            "tags": []
          },
          "execution_count": 10
        }
      ]
    },
    {
      "cell_type": "code",
      "metadata": {
        "id": "LpJaNZ9Qyo6Y",
        "colab": {
          "base_uri": "https://localhost:8080/",
          "height": 204
        },
        "outputId": "39630b30-dc52-4ca2-cd3e-41a5956005bc"
      },
      "source": [
        "df.head()"
      ],
      "execution_count": 11,
      "outputs": [
        {
          "output_type": "execute_result",
          "data": {
            "text/html": [
              "<div>\n",
              "<style scoped>\n",
              "    .dataframe tbody tr th:only-of-type {\n",
              "        vertical-align: middle;\n",
              "    }\n",
              "\n",
              "    .dataframe tbody tr th {\n",
              "        vertical-align: top;\n",
              "    }\n",
              "\n",
              "    .dataframe thead th {\n",
              "        text-align: right;\n",
              "    }\n",
              "</style>\n",
              "<table border=\"1\" class=\"dataframe\">\n",
              "  <thead>\n",
              "    <tr style=\"text-align: right;\">\n",
              "      <th></th>\n",
              "      <th>Index</th>\n",
              "      <th>Source</th>\n",
              "      <th>Text</th>\n",
              "      <th>Length</th>\n",
              "    </tr>\n",
              "  </thead>\n",
              "  <tbody>\n",
              "    <tr>\n",
              "      <th>0</th>\n",
              "      <td>1</td>\n",
              "      <td>Susanli</td>\n",
              "      <td>An unfounded conspiracy theory and pro-Kremlin...</td>\n",
              "      <td>1001</td>\n",
              "    </tr>\n",
              "    <tr>\n",
              "      <th>1</th>\n",
              "      <td>2</td>\n",
              "      <td>Susanli</td>\n",
              "      <td>To all my wonderful people in Liberia: While y...</td>\n",
              "      <td>1002</td>\n",
              "    </tr>\n",
              "    <tr>\n",
              "      <th>2</th>\n",
              "      <td>3</td>\n",
              "      <td>Susanli</td>\n",
              "      <td>Microsoft has recently patented an invention t...</td>\n",
              "      <td>1003</td>\n",
              "    </tr>\n",
              "    <tr>\n",
              "      <th>3</th>\n",
              "      <td>4</td>\n",
              "      <td>Susanli</td>\n",
              "      <td>We are moving towards a totalitarian state of ...</td>\n",
              "      <td>1009</td>\n",
              "    </tr>\n",
              "    <tr>\n",
              "      <th>4</th>\n",
              "      <td>5</td>\n",
              "      <td>Susanli</td>\n",
              "      <td>A top U.S. scientist and research pioneer Dr. ...</td>\n",
              "      <td>1018</td>\n",
              "    </tr>\n",
              "  </tbody>\n",
              "</table>\n",
              "</div>"
            ],
            "text/plain": [
              "   Index   Source                                               Text  Length\n",
              "0      1  Susanli  An unfounded conspiracy theory and pro-Kremlin...    1001\n",
              "1      2  Susanli  To all my wonderful people in Liberia: While y...    1002\n",
              "2      3  Susanli  Microsoft has recently patented an invention t...    1003\n",
              "3      4  Susanli  We are moving towards a totalitarian state of ...    1009\n",
              "4      5  Susanli  A top U.S. scientist and research pioneer Dr. ...    1018"
            ]
          },
          "metadata": {
            "tags": []
          },
          "execution_count": 11
        }
      ]
    },
    {
      "cell_type": "code",
      "metadata": {
        "id": "PeuNp33i0CWj"
      },
      "source": [
        "import spacy\n",
        "import en_core_web_lg\n",
        "import nltk\n",
        "from nltk.tokenize.toktok import ToktokTokenizer\n",
        "import re\n",
        "import unicodedata\n",
        "\n",
        "nlp = en_core_web_lg.load()\n",
        "tokenizer = ToktokTokenizer()\n",
        "stopword_list = nltk.corpus.stopwords.words('english')\n",
        "\n",
        "# Want to keep negative stop words for sentiment analysis\n",
        "stopword_list.remove('no')\n",
        "stopword_list.remove('not')"
      ],
      "execution_count": 12,
      "outputs": []
    },
    {
      "cell_type": "code",
      "metadata": {
        "id": "zdl4QsNo17GD",
        "colab": {
          "base_uri": "https://localhost:8080/",
          "height": 35
        },
        "outputId": "e6be7b76-345c-4f93-dcee-7d7daa6a625a"
      },
      "source": [
        "def strip_html_tags(text):\n",
        "    soup = BeautifulSoup(text, \"html.parser\")\n",
        "    stripped_text = soup.get_text()\n",
        "    return stripped_text\n",
        "\n",
        "strip_html_tags('<html><h2>text text text</h2></html>')"
      ],
      "execution_count": 13,
      "outputs": [
        {
          "output_type": "execute_result",
          "data": {
            "application/vnd.google.colaboratory.intrinsic+json": {
              "type": "string"
            },
            "text/plain": [
              "'text text text'"
            ]
          },
          "metadata": {
            "tags": []
          },
          "execution_count": 13
        }
      ]
    },
    {
      "cell_type": "code",
      "metadata": {
        "id": "wGGX2Ygd1_6U",
        "colab": {
          "base_uri": "https://localhost:8080/",
          "height": 35
        },
        "outputId": "4cd04db9-8a74-4dc1-9034-5917a8068f1b"
      },
      "source": [
        "def remove_accented_chars(text):\n",
        "    text = unicodedata.normalize('NFKD', text).encode('ascii', 'ignore').decode('utf-8', 'ignore')\n",
        "    return text\n",
        "\n",
        "remove_accented_chars('some accented letters â î or ô')"
      ],
      "execution_count": 14,
      "outputs": [
        {
          "output_type": "execute_result",
          "data": {
            "application/vnd.google.colaboratory.intrinsic+json": {
              "type": "string"
            },
            "text/plain": [
              "'some accented letters a i or o'"
            ]
          },
          "metadata": {
            "tags": []
          },
          "execution_count": 14
        }
      ]
    },
    {
      "cell_type": "code",
      "metadata": {
        "id": "CeVGeYd12Csr"
      },
      "source": [
        "CONTRACTION_MAP = {\n",
        "\"ain't\": \"is not\",\n",
        "\"aren't\": \"are not\",\n",
        "\"can't\": \"cannot\",\n",
        "\"can't've\": \"cannot have\",\n",
        "\"'cause\": \"because\",\n",
        "\"could've\": \"could have\",\n",
        "\"couldn't\": \"could not\",\n",
        "\"couldn't've\": \"could not have\",\n",
        "\"didn't\": \"did not\",\n",
        "\"doesn't\": \"does not\",\n",
        "\"don't\": \"do not\",\n",
        "\"hadn't\": \"had not\",\n",
        "\"hadn't've\": \"had not have\",\n",
        "\"hasn't\": \"has not\",\n",
        "\"haven't\": \"have not\",\n",
        "\"he'd\": \"he would\",\n",
        "\"he'd've\": \"he would have\",\n",
        "\"he'll\": \"he will\",\n",
        "\"he'll've\": \"he he will have\",\n",
        "\"he's\": \"he is\",\n",
        "\"how'd\": \"how did\",\n",
        "\"how'd'y\": \"how do you\",\n",
        "\"how'll\": \"how will\",\n",
        "\"how's\": \"how is\",\n",
        "\"I'd\": \"I would\",\n",
        "\"I'd've\": \"I would have\",\n",
        "\"I'll\": \"I will\",\n",
        "\"I'll've\": \"I will have\",\n",
        "\"I'm\": \"I am\",\n",
        "\"I've\": \"I have\",\n",
        "\"i'd\": \"i would\",\n",
        "\"i'd've\": \"i would have\",\n",
        "\"i'll\": \"i will\",\n",
        "\"i'll've\": \"i will have\",\n",
        "\"i'm\": \"i am\",\n",
        "\"i've\": \"i have\",\n",
        "\"isn't\": \"is not\",\n",
        "\"it'd\": \"it would\",\n",
        "\"it'd've\": \"it would have\",\n",
        "\"it'll\": \"it will\",\n",
        "\"it'll've\": \"it will have\",\n",
        "\"it's\": \"it is\",\n",
        "\"let's\": \"let us\",\n",
        "\"ma'am\": \"madam\",\n",
        "\"mayn't\": \"may not\",\n",
        "\"might've\": \"might have\",\n",
        "\"mightn't\": \"might not\",\n",
        "\"mightn't've\": \"might not have\",\n",
        "\"must've\": \"must have\",\n",
        "\"mustn't\": \"must not\",\n",
        "\"mustn't've\": \"must not have\",\n",
        "\"needn't\": \"need not\",\n",
        "\"needn't've\": \"need not have\",\n",
        "\"o'clock\": \"of the clock\",\n",
        "\"oughtn't\": \"ought not\",\n",
        "\"oughtn't've\": \"ought not have\",\n",
        "\"shan't\": \"shall not\",\n",
        "\"sha'n't\": \"shall not\",\n",
        "\"shan't've\": \"shall not have\",\n",
        "\"she'd\": \"she would\",\n",
        "\"she'd've\": \"she would have\",\n",
        "\"she'll\": \"she will\",\n",
        "\"she'll've\": \"she will have\",\n",
        "\"she's\": \"she is\",\n",
        "\"should've\": \"should have\",\n",
        "\"shouldn't\": \"should not\",\n",
        "\"shouldn't've\": \"should not have\",\n",
        "\"so've\": \"so have\",\n",
        "\"so's\": \"so as\",\n",
        "\"that'd\": \"that would\",\n",
        "\"that'd've\": \"that would have\",\n",
        "\"that's\": \"that is\",\n",
        "\"there'd\": \"there would\",\n",
        "\"there'd've\": \"there would have\",\n",
        "\"there's\": \"there is\",\n",
        "\"they'd\": \"they would\",\n",
        "\"they'd've\": \"they would have\",\n",
        "\"they'll\": \"they will\",\n",
        "\"they'll've\": \"they will have\",\n",
        "\"they're\": \"they are\",\n",
        "\"they've\": \"they have\",\n",
        "\"to've\": \"to have\",\n",
        "\"wasn't\": \"was not\",\n",
        "\"we'd\": \"we would\",\n",
        "\"we'd've\": \"we would have\",\n",
        "\"we'll\": \"we will\",\n",
        "\"we'll've\": \"we will have\",\n",
        "\"we're\": \"we are\",\n",
        "\"we've\": \"we have\",\n",
        "\"weren't\": \"were not\",\n",
        "\"what'll\": \"what will\",\n",
        "\"what'll've\": \"what will have\",\n",
        "\"what're\": \"what are\",\n",
        "\"what's\": \"what is\",\n",
        "\"what've\": \"what have\",\n",
        "\"when's\": \"when is\",\n",
        "\"when've\": \"when have\",\n",
        "\"where'd\": \"where did\",\n",
        "\"where's\": \"where is\",\n",
        "\"where've\": \"where have\",\n",
        "\"who'll\": \"who will\",\n",
        "\"who'll've\": \"who will have\",\n",
        "\"who's\": \"who is\",\n",
        "\"who've\": \"who have\",\n",
        "\"why's\": \"why is\",\n",
        "\"why've\": \"why have\",\n",
        "\"will've\": \"will have\",\n",
        "\"won't\": \"will not\",\n",
        "\"won't've\": \"will not have\",\n",
        "\"would've\": \"would have\",\n",
        "\"wouldn't\": \"would not\",\n",
        "\"wouldn't've\": \"would not have\",\n",
        "\"y'all\": \"you all\",\n",
        "\"y'all'd\": \"you all would\",\n",
        "\"y'all'd've\": \"you all would have\",\n",
        "\"y'all're\": \"you all are\",\n",
        "\"y'all've\": \"you all have\",\n",
        "\"you'd\": \"you would\",\n",
        "\"you'd've\": \"you would have\",\n",
        "\"you'll\": \"you will\",\n",
        "\"you'll've\": \"you will have\",\n",
        "\"you're\": \"you are\",\n",
        "\"you've\": \"you have\"\n",
        "}"
      ],
      "execution_count": 15,
      "outputs": []
    },
    {
      "cell_type": "code",
      "metadata": {
        "id": "6VG6CYWU2Eub",
        "colab": {
          "base_uri": "https://localhost:8080/",
          "height": 35
        },
        "outputId": "fd9a3771-b488-4751-d432-dbc33809c1cb"
      },
      "source": [
        "def expand_contractions(text, contraction_mapping=CONTRACTION_MAP):\n",
        "    contractions_pattern = re.compile('({})'.format('|'.join(contraction_mapping.keys())),\n",
        "                                      flags=re.IGNORECASE|re.DOTALL)\n",
        "    def expand_match(contraction):\n",
        "        match = contraction.group(0)\n",
        "        first_char = match[0]\n",
        "        expanded_contraction = contraction_mapping.get(match)\\\n",
        "            if contraction_mapping.get(match) \\\n",
        "            else contraction_mapping.get(match.lower())\n",
        "        expanded_contraction = first_char+expanded_contraction[1:]\n",
        "        return expanded_contraction\n",
        "    \n",
        "    expanded_text = contractions_pattern.sub(expand_match, text)\n",
        "    expanded_text = re.sub(\"'\", \"\", expanded_text)\n",
        "    return expanded_text\n",
        "\n",
        "expand_contractions(\"y'all I've don't I'd we're\")"
      ],
      "execution_count": 16,
      "outputs": [
        {
          "output_type": "execute_result",
          "data": {
            "application/vnd.google.colaboratory.intrinsic+json": {
              "type": "string"
            },
            "text/plain": [
              "'you all I have do not I would we are'"
            ]
          },
          "metadata": {
            "tags": []
          },
          "execution_count": 16
        }
      ]
    },
    {
      "cell_type": "code",
      "metadata": {
        "id": "wFUgIb8T2HFV",
        "colab": {
          "base_uri": "https://localhost:8080/",
          "height": 35
        },
        "outputId": "28af58ba-a80b-4160-d59b-1d7b9ec2ad15"
      },
      "source": [
        "def remove_special_characters(text, remove_digits=False):\n",
        "    pattern = r'[^a-zA-z0-9\\s]' if not remove_digits else r'[^a-zA-z\\s]'\n",
        "    text = re.sub(pattern, '', text)\n",
        "    return text\n",
        "\n",
        "remove_special_characters(\"S0me sp3ci@l c#@4@c|3rs *&)@&)@#&\", remove_digits=True)"
      ],
      "execution_count": 17,
      "outputs": [
        {
          "output_type": "execute_result",
          "data": {
            "application/vnd.google.colaboratory.intrinsic+json": {
              "type": "string"
            },
            "text/plain": [
              "'Sme spcil ccrs '"
            ]
          },
          "metadata": {
            "tags": []
          },
          "execution_count": 17
        }
      ]
    },
    {
      "cell_type": "code",
      "metadata": {
        "id": "u_5a3O7s2JZt",
        "colab": {
          "base_uri": "https://localhost:8080/",
          "height": 137
        },
        "outputId": "4a28f30d-7899-4d3f-dc10-1b98cac4b2bd"
      },
      "source": [
        "def lemmatize_text(text):\n",
        "    text = nlp(text)\n",
        "    text = ' '.join([word.lemma_ if word.lemma_ != '-PRON-' else word.text for word in text])\n",
        "    return text\n",
        "\n",
        "lemmatize_text(str(df.Text[0]))"
      ],
      "execution_count": 18,
      "outputs": [
        {
          "output_type": "execute_result",
          "data": {
            "application/vnd.google.colaboratory.intrinsic+json": {
              "type": "string"
            },
            "text/plain": [
              "\"an unfounded conspiracy theory and pro - kremlin disinformation narrative about the ongoing coronavirus pandemic . the first case of COVID-19 be report in China , in the city of Wuhan on December 31 . on that day , China alert the who about several case of pneumonia from an unknown cause . some of those infect work at the city 's Huanan Seafood Wholesale Market , which be believe to be the place where the new disease originate . very quickly , the number of those infect rise to over 40.On January 13 , the coronavirus be confirm in Thailand , in Japan on January 16 and in North Korea and the United States on January 20 . in Japan , the first case of coronavirus be confirm in a resident of Kanagawa Prefecture who have travel to Wuhan at the beginning of January . the first case in Italy be confirm on January 30 , when two chinese tourist in Rome test positive for the virus . a week later the third case be confirm in an italian man who be repatriate back to Italy from Wuhan .\""
            ]
          },
          "metadata": {
            "tags": []
          },
          "execution_count": 18
        }
      ]
    },
    {
      "cell_type": "code",
      "metadata": {
        "id": "s5x6gKBB2LfI",
        "colab": {
          "base_uri": "https://localhost:8080/",
          "height": 103
        },
        "outputId": "9001c98e-1a99-45ad-9c09-3729beab5842"
      },
      "source": [
        "def remove_stopwords(text, is_lower_case=False):\n",
        "    tokens = tokenizer.tokenize(text)\n",
        "    tokens = [token.strip() for token in tokens]\n",
        "    if is_lower_case:\n",
        "        filtered_tokens = [token for token in tokens if token not in stopword_list]\n",
        "    else:\n",
        "        filtered_tokens = [token for token in tokens if token.lower() not in stopword_list]\n",
        "    filtered_text = ' '.join(filtered_tokens)\n",
        "    return filtered_text\n",
        "\n",
        "remove_stopwords(str(df.Text[0]))"
      ],
      "execution_count": 19,
      "outputs": [
        {
          "output_type": "execute_result",
          "data": {
            "application/vnd.google.colaboratory.intrinsic+json": {
              "type": "string"
            },
            "text/plain": [
              "\"unfounded conspiracy theory pro-Kremlin disinformation narrative ongoing coronavirus pandemic.The first cases COVID-19 reported China , city Wuhan December 31. day , China alerted several cases pneumonia unknown cause. infected worked city ' Huanan Seafood Wholesale Market , believed place new disease originated. quickly , number infected rose 40.On January 13 , coronavirus confirmed Thailand , Japan January 16 North Korea United States January 20. Japan , first case coronavirus confirmed resident Kanagawa Prefecture travelled Wuhan beginning January.The first case Italy confirmed January 30 , two Chinese tourists Rome tested positive virus. week later third case confirmed Italian man repatriated back Italy Wuhan .\""
            ]
          },
          "metadata": {
            "tags": []
          },
          "execution_count": 19
        }
      ]
    },
    {
      "cell_type": "code",
      "metadata": {
        "id": "P_4Y1rg-2N4-"
      },
      "source": [
        "def normalize_corpus(corpus, html_stripping=True, accented_char_removal=True, contraction_expansion=True, \n",
        "                    text_lower_case=True, text_lemmatization=True, special_char_removal=True, stopword_removal=True,\n",
        "                    remove_digits=True):\n",
        "    normalized_corpus = []\n",
        "    for doc in corpus:\n",
        "        # strip HTML\n",
        "        if html_stripping:\n",
        "            doc = strip_html_tags(doc)\n",
        "        # remove accented characters\n",
        "        if accented_char_removal:\n",
        "            doc = remove_accented_chars(doc)\n",
        "        # expand contractions\n",
        "        if contraction_expansion:\n",
        "            doc = expand_contractions(doc)\n",
        "        # turn into lowercase\n",
        "        if text_lower_case:\n",
        "            doc = doc.lower()\n",
        "        # remove extra newlines\n",
        "        doc = re.sub(r'[\\r|\\n|\\r\\n]+', ' ', doc)\n",
        "        # lemmatize text\n",
        "        if text_lemmatization:\n",
        "            doc = lemmatize_text(doc)\n",
        "        # remove special characters and/or digits\n",
        "        if special_char_removal:\n",
        "            # insert spaces between special characters to isolate them\n",
        "            special_char_pattern = re.compile(r'([{.(-)!}])')\n",
        "            doc = special_char_pattern.sub(\" \\\\1 \", doc)\n",
        "            doc = remove_special_characters(doc, remove_digits=remove_digits)\n",
        "        # remove extra whitespaces\n",
        "        doc = re.sub(' _', ' ', doc)\n",
        "        # remove stopwords\n",
        "        if stopword_removal:\n",
        "            doc = remove_stopwords(doc, is_lower_case=text_lower_case)\n",
        "            \n",
        "        normalized_corpus.append(doc)\n",
        "    \n",
        "    return normalized_corpus"
      ],
      "execution_count": 20,
      "outputs": []
    },
    {
      "cell_type": "code",
      "metadata": {
        "id": "6tz3dTfp2QkW",
        "colab": {
          "base_uri": "https://localhost:8080/"
        },
        "outputId": "9b9b097f-2fb8-4502-fc0d-04cacba19436"
      },
      "source": [
        "# combine news headline and article text into one doc\n",
        "df['full_text'] = df[\"Text\"]\n",
        "\n",
        "# pre-process text\n",
        "df['clean_text'] = normalize_corpus(df['full_text'])\n",
        "norm_corpus = list(df['clean_text'])\n",
        "df.iloc[1][['full_text', 'clean_text']].to_dict()"
      ],
      "execution_count": 21,
      "outputs": [
        {
          "output_type": "execute_result",
          "data": {
            "text/plain": [
              "{'clean_text': 'wonderful people liberia lockdown open eye please see anything like instal community take picture post online engage government g mast pole atenae look thing beam radiation make sick kill month symptom like novel coronavirus even damage human body like respitory fatality heart deform babe destruction sperm tooth much mainline medium heavily pay disassociate g coronavirus many time shame anybody evil government put indoors letor telecom company thing bring harm religious leader good politician business people general public see g mast better get house talk stop priority need attention not high technology destroy',\n",
              " 'full_text': 'To all my wonderful people in Liberia: While you are under lockdown, open your eyes please. If you see anything like this being installed in your communities, take a picture and post it online, and engage the government. This is how some of the 5G masts/poles/atenaes look. These things beam radiation that will make you sick and kill you in 3 to 6 months, and the symptoms are just like the novel Coronavirus, but they do even more damage to the human body like respitory fatality, heart, deformed babes, destruction of sperm, teeth and much more! The mainline media is heavily paid to disassociate 5G and Coronavirus, and many times, shame anybody that does. But it EVIL if our government put you indoors and letor telecom companies do things that bring harm. Religious leaders, good politicians, business people and the general public, if you see these 5G masts, you better get out of the house and talk and stop it! There are other priorities that need attention, not high technology that destroys!'}"
            ]
          },
          "metadata": {
            "tags": []
          },
          "execution_count": 21
        }
      ]
    },
    {
      "cell_type": "markdown",
      "metadata": {
        "id": "FKV7Krjp2ZI3"
      },
      "source": [
        "# Text Parsing\n",
        "\n",
        "POS Tagging\n"
      ]
    },
    {
      "cell_type": "code",
      "metadata": {
        "id": "mPFPmFs42h-n"
      },
      "source": [
        "# pre-process, but don't lowercase or lemmatize to get POS context\n",
        "corpus = normalize_corpus(df['full_text'], text_lower_case=False, text_lemmatization=False, special_char_removal=False)\n",
        "\n",
        "# demo for POS tagging\n",
        "sentence = str(df.iloc[0].Text)\n",
        "sentence_nlp = nlp(sentence)\n",
        "\n",
        "# POS tagging with spacy\n",
        "spacy_pos_tagged = [(word, word.tag_, word.pos_) for word in sentence_nlp]\n",
        "df_spacy_pos_tagged = pd.DataFrame(spacy_pos_tagged, columns=['Word', 'POS tag', 'Tag type'])\n",
        "\n",
        "# POS tagging with nltk\n",
        "nltk_pos_tagged = nltk.pos_tag(sentence.split())\n",
        "df_nltk_pos_tagged = pd.DataFrame(nltk_pos_tagged, columns=['Word', 'POS tag'])\n"
      ],
      "execution_count": 22,
      "outputs": []
    },
    {
      "cell_type": "code",
      "metadata": {
        "id": "htS7N-_I3kBY",
        "colab": {
          "base_uri": "https://localhost:8080/",
          "height": 137
        },
        "outputId": "408123b6-301c-4cc9-c8f6-749c99b4f6e5"
      },
      "source": [
        "sentence"
      ],
      "execution_count": 23,
      "outputs": [
        {
          "output_type": "execute_result",
          "data": {
            "application/vnd.google.colaboratory.intrinsic+json": {
              "type": "string"
            },
            "text/plain": [
              "\"An unfounded conspiracy theory and pro-Kremlin disinformation narrative about the ongoing coronavirus pandemic.The first cases of COVID-19 were reported in China, in the city of Wuhan on December 31. On that day, China alerted the WHO about several cases of pneumonia from an unknown cause. Some of those infected worked at the city's Huanan Seafood Wholesale Market, which is believed to be the place where the new disease originated. Very quickly, the number of those infected rose to over 40.On January 13, the coronavirus was confirmed in Thailand, in Japan on January 16 and in North Korea and the United States on January 20. In Japan, the first case of coronavirus was confirmed in a resident of Kanagawa Prefecture who had travelled to Wuhan at the beginning of January.The first case in Italy was confirmed on January 30, when two Chinese tourists in Rome tested positive for the virus. A week later the third case was confirmed in an Italian man who was repatriated back to Italy from Wuhan.\""
            ]
          },
          "metadata": {
            "tags": []
          },
          "execution_count": 23
        }
      ]
    },
    {
      "cell_type": "code",
      "metadata": {
        "id": "RquR_17Q3opD",
        "colab": {
          "base_uri": "https://localhost:8080/",
          "height": 419
        },
        "outputId": "200eecde-c6f7-4118-de00-8ce1a19f8219"
      },
      "source": [
        "df_spacy_pos_tagged"
      ],
      "execution_count": 24,
      "outputs": [
        {
          "output_type": "execute_result",
          "data": {
            "text/html": [
              "<div>\n",
              "<style scoped>\n",
              "    .dataframe tbody tr th:only-of-type {\n",
              "        vertical-align: middle;\n",
              "    }\n",
              "\n",
              "    .dataframe tbody tr th {\n",
              "        vertical-align: top;\n",
              "    }\n",
              "\n",
              "    .dataframe thead th {\n",
              "        text-align: right;\n",
              "    }\n",
              "</style>\n",
              "<table border=\"1\" class=\"dataframe\">\n",
              "  <thead>\n",
              "    <tr style=\"text-align: right;\">\n",
              "      <th></th>\n",
              "      <th>Word</th>\n",
              "      <th>POS tag</th>\n",
              "      <th>Tag type</th>\n",
              "    </tr>\n",
              "  </thead>\n",
              "  <tbody>\n",
              "    <tr>\n",
              "      <th>0</th>\n",
              "      <td>An</td>\n",
              "      <td>DT</td>\n",
              "      <td>DET</td>\n",
              "    </tr>\n",
              "    <tr>\n",
              "      <th>1</th>\n",
              "      <td>unfounded</td>\n",
              "      <td>JJ</td>\n",
              "      <td>ADJ</td>\n",
              "    </tr>\n",
              "    <tr>\n",
              "      <th>2</th>\n",
              "      <td>conspiracy</td>\n",
              "      <td>NN</td>\n",
              "      <td>NOUN</td>\n",
              "    </tr>\n",
              "    <tr>\n",
              "      <th>3</th>\n",
              "      <td>theory</td>\n",
              "      <td>NN</td>\n",
              "      <td>NOUN</td>\n",
              "    </tr>\n",
              "    <tr>\n",
              "      <th>4</th>\n",
              "      <td>and</td>\n",
              "      <td>CC</td>\n",
              "      <td>CCONJ</td>\n",
              "    </tr>\n",
              "    <tr>\n",
              "      <th>...</th>\n",
              "      <td>...</td>\n",
              "      <td>...</td>\n",
              "      <td>...</td>\n",
              "    </tr>\n",
              "    <tr>\n",
              "      <th>185</th>\n",
              "      <td>to</td>\n",
              "      <td>IN</td>\n",
              "      <td>ADP</td>\n",
              "    </tr>\n",
              "    <tr>\n",
              "      <th>186</th>\n",
              "      <td>Italy</td>\n",
              "      <td>NNP</td>\n",
              "      <td>PROPN</td>\n",
              "    </tr>\n",
              "    <tr>\n",
              "      <th>187</th>\n",
              "      <td>from</td>\n",
              "      <td>IN</td>\n",
              "      <td>ADP</td>\n",
              "    </tr>\n",
              "    <tr>\n",
              "      <th>188</th>\n",
              "      <td>Wuhan</td>\n",
              "      <td>NNP</td>\n",
              "      <td>PROPN</td>\n",
              "    </tr>\n",
              "    <tr>\n",
              "      <th>189</th>\n",
              "      <td>.</td>\n",
              "      <td>.</td>\n",
              "      <td>PUNCT</td>\n",
              "    </tr>\n",
              "  </tbody>\n",
              "</table>\n",
              "<p>190 rows × 3 columns</p>\n",
              "</div>"
            ],
            "text/plain": [
              "           Word POS tag Tag type\n",
              "0            An      DT      DET\n",
              "1     unfounded      JJ      ADJ\n",
              "2    conspiracy      NN     NOUN\n",
              "3        theory      NN     NOUN\n",
              "4           and      CC    CCONJ\n",
              "..          ...     ...      ...\n",
              "185          to      IN      ADP\n",
              "186       Italy     NNP    PROPN\n",
              "187        from      IN      ADP\n",
              "188       Wuhan     NNP    PROPN\n",
              "189           .       .    PUNCT\n",
              "\n",
              "[190 rows x 3 columns]"
            ]
          },
          "metadata": {
            "tags": []
          },
          "execution_count": 24
        }
      ]
    },
    {
      "cell_type": "code",
      "metadata": {
        "id": "KLfDwI5L3rhT",
        "colab": {
          "base_uri": "https://localhost:8080/",
          "height": 419
        },
        "outputId": "8bc27bc9-5de7-40ce-888a-3331eb5939c2"
      },
      "source": [
        "df_nltk_pos_tagged"
      ],
      "execution_count": 25,
      "outputs": [
        {
          "output_type": "execute_result",
          "data": {
            "text/html": [
              "<div>\n",
              "<style scoped>\n",
              "    .dataframe tbody tr th:only-of-type {\n",
              "        vertical-align: middle;\n",
              "    }\n",
              "\n",
              "    .dataframe tbody tr th {\n",
              "        vertical-align: top;\n",
              "    }\n",
              "\n",
              "    .dataframe thead th {\n",
              "        text-align: right;\n",
              "    }\n",
              "</style>\n",
              "<table border=\"1\" class=\"dataframe\">\n",
              "  <thead>\n",
              "    <tr style=\"text-align: right;\">\n",
              "      <th></th>\n",
              "      <th>Word</th>\n",
              "      <th>POS tag</th>\n",
              "    </tr>\n",
              "  </thead>\n",
              "  <tbody>\n",
              "    <tr>\n",
              "      <th>0</th>\n",
              "      <td>An</td>\n",
              "      <td>DT</td>\n",
              "    </tr>\n",
              "    <tr>\n",
              "      <th>1</th>\n",
              "      <td>unfounded</td>\n",
              "      <td>JJ</td>\n",
              "    </tr>\n",
              "    <tr>\n",
              "      <th>2</th>\n",
              "      <td>conspiracy</td>\n",
              "      <td>NN</td>\n",
              "    </tr>\n",
              "    <tr>\n",
              "      <th>3</th>\n",
              "      <td>theory</td>\n",
              "      <td>NN</td>\n",
              "    </tr>\n",
              "    <tr>\n",
              "      <th>4</th>\n",
              "      <td>and</td>\n",
              "      <td>CC</td>\n",
              "    </tr>\n",
              "    <tr>\n",
              "      <th>...</th>\n",
              "      <td>...</td>\n",
              "      <td>...</td>\n",
              "    </tr>\n",
              "    <tr>\n",
              "      <th>164</th>\n",
              "      <td>back</td>\n",
              "      <td>RB</td>\n",
              "    </tr>\n",
              "    <tr>\n",
              "      <th>165</th>\n",
              "      <td>to</td>\n",
              "      <td>TO</td>\n",
              "    </tr>\n",
              "    <tr>\n",
              "      <th>166</th>\n",
              "      <td>Italy</td>\n",
              "      <td>NNP</td>\n",
              "    </tr>\n",
              "    <tr>\n",
              "      <th>167</th>\n",
              "      <td>from</td>\n",
              "      <td>IN</td>\n",
              "    </tr>\n",
              "    <tr>\n",
              "      <th>168</th>\n",
              "      <td>Wuhan.</td>\n",
              "      <td>NNP</td>\n",
              "    </tr>\n",
              "  </tbody>\n",
              "</table>\n",
              "<p>169 rows × 2 columns</p>\n",
              "</div>"
            ],
            "text/plain": [
              "           Word POS tag\n",
              "0            An      DT\n",
              "1     unfounded      JJ\n",
              "2    conspiracy      NN\n",
              "3        theory      NN\n",
              "4           and      CC\n",
              "..          ...     ...\n",
              "164        back      RB\n",
              "165          to      TO\n",
              "166       Italy     NNP\n",
              "167        from      IN\n",
              "168      Wuhan.     NNP\n",
              "\n",
              "[169 rows x 2 columns]"
            ]
          },
          "metadata": {
            "tags": []
          },
          "execution_count": 25
        }
      ]
    },
    {
      "cell_type": "markdown",
      "metadata": {
        "id": "ObHq3vQH4D-D"
      },
      "source": [
        "Shallow Parsing (Chunking)"
      ]
    },
    {
      "cell_type": "code",
      "metadata": {
        "id": "S98R1pyH4JB4",
        "colab": {
          "base_uri": "https://localhost:8080/"
        },
        "outputId": "da5af73e-4590-499b-c8e3-cff46196db2f"
      },
      "source": [
        "# using nltk conll2000 corpus to train the shallow parser model\n",
        "from nltk.corpus import conll2000\n",
        "\n",
        "data = conll2000.chunked_sents()\n",
        "train_data = data[:10900]\n",
        "test_data = data[10900:]\n",
        "\n",
        "print(len(train_data), len(test_data))\n",
        "print(train_data[0])"
      ],
      "execution_count": 26,
      "outputs": [
        {
          "output_type": "stream",
          "text": [
            "10900 48\n",
            "(S\n",
            "  (NP Confidence/NN)\n",
            "  (PP in/IN)\n",
            "  (NP the/DT pound/NN)\n",
            "  (VP is/VBZ widely/RB expected/VBN to/TO take/VB)\n",
            "  (NP another/DT sharp/JJ dive/NN)\n",
            "  if/IN\n",
            "  (NP trade/NN figures/NNS)\n",
            "  (PP for/IN)\n",
            "  (NP September/NNP)\n",
            "  ,/,\n",
            "  due/JJ\n",
            "  (PP for/IN)\n",
            "  (NP release/NN)\n",
            "  (NP tomorrow/NN)\n",
            "  ,/,\n",
            "  (VP fail/VB to/TO show/VB)\n",
            "  (NP a/DT substantial/JJ improvement/NN)\n",
            "  (PP from/IN)\n",
            "  (NP July/NNP and/CC August/NNP)\n",
            "  (NP 's/POS near-record/JJ deficits/NNS)\n",
            "  ./.)\n"
          ],
          "name": "stdout"
        }
      ]
    },
    {
      "cell_type": "code",
      "metadata": {
        "id": "sDheAkaJ4J-z",
        "colab": {
          "base_uri": "https://localhost:8080/"
        },
        "outputId": "ad08daa7-d171-406d-e59d-10a46246ddda"
      },
      "source": [
        "from nltk.chunk.util import tree2conlltags, conlltags2tree\n",
        "\n",
        "wtc = tree2conlltags(train_data[0])\n",
        "wtc"
      ],
      "execution_count": 27,
      "outputs": [
        {
          "output_type": "execute_result",
          "data": {
            "text/plain": [
              "[('Confidence', 'NN', 'B-NP'),\n",
              " ('in', 'IN', 'B-PP'),\n",
              " ('the', 'DT', 'B-NP'),\n",
              " ('pound', 'NN', 'I-NP'),\n",
              " ('is', 'VBZ', 'B-VP'),\n",
              " ('widely', 'RB', 'I-VP'),\n",
              " ('expected', 'VBN', 'I-VP'),\n",
              " ('to', 'TO', 'I-VP'),\n",
              " ('take', 'VB', 'I-VP'),\n",
              " ('another', 'DT', 'B-NP'),\n",
              " ('sharp', 'JJ', 'I-NP'),\n",
              " ('dive', 'NN', 'I-NP'),\n",
              " ('if', 'IN', 'O'),\n",
              " ('trade', 'NN', 'B-NP'),\n",
              " ('figures', 'NNS', 'I-NP'),\n",
              " ('for', 'IN', 'B-PP'),\n",
              " ('September', 'NNP', 'B-NP'),\n",
              " (',', ',', 'O'),\n",
              " ('due', 'JJ', 'O'),\n",
              " ('for', 'IN', 'B-PP'),\n",
              " ('release', 'NN', 'B-NP'),\n",
              " ('tomorrow', 'NN', 'B-NP'),\n",
              " (',', ',', 'O'),\n",
              " ('fail', 'VB', 'B-VP'),\n",
              " ('to', 'TO', 'I-VP'),\n",
              " ('show', 'VB', 'I-VP'),\n",
              " ('a', 'DT', 'B-NP'),\n",
              " ('substantial', 'JJ', 'I-NP'),\n",
              " ('improvement', 'NN', 'I-NP'),\n",
              " ('from', 'IN', 'B-PP'),\n",
              " ('July', 'NNP', 'B-NP'),\n",
              " ('and', 'CC', 'I-NP'),\n",
              " ('August', 'NNP', 'I-NP'),\n",
              " (\"'s\", 'POS', 'B-NP'),\n",
              " ('near-record', 'JJ', 'I-NP'),\n",
              " ('deficits', 'NNS', 'I-NP'),\n",
              " ('.', '.', 'O')]"
            ]
          },
          "metadata": {
            "tags": []
          },
          "execution_count": 27
        }
      ]
    },
    {
      "cell_type": "code",
      "metadata": {
        "id": "qXYc-mID4U5G"
      },
      "source": [
        "# extract POS and chunk tags from sentences with chunked annotations\n",
        "def conll_tags_chunks(chunk_sents):\n",
        "    tagged_sents = [tree2conlltags(tree) for tree in chunk_sents]\n",
        "    return [[(t, c) for (w, t, c) in sent] for sent in tagged_sents]\n",
        "\n",
        "# function to train multiple taggers\n",
        "def combined_tagger(train_data, taggers, backoff=None):\n",
        "    for tagger in taggers:\n",
        "        backoff = tagger(train_data, backoff=backoff)\n",
        "    return backoff"
      ],
      "execution_count": 28,
      "outputs": []
    },
    {
      "cell_type": "code",
      "metadata": {
        "id": "5yI_mN7P4Yg6",
        "colab": {
          "base_uri": "https://localhost:8080/"
        },
        "outputId": "20bd8e0e-e566-47d2-8368-0948c7ee0c91"
      },
      "source": [
        "%%time\n",
        "\n",
        "from nltk.tag import UnigramTagger, BigramTagger, TrigramTagger\n",
        "from nltk.chunk import ChunkParserI\n",
        "\n",
        "# chunker class\n",
        "class NGramTagChunker(ChunkParserI):\n",
        "    def __init__(self, train_sentences, tagger_classes=[UnigramTagger, BigramTagger]):\n",
        "        # get the POS and chunk tags using our function above\n",
        "        train_sent_tags = conll_tags_chunks(train_sentences)\n",
        "        # train chunk tagger from POS tags\n",
        "        self.chunk_tagger = combined_tagger(train_sent_tags, tagger_classes)\n",
        "    \n",
        "    def parse(self, tagged_sentence):\n",
        "        if not tagged_sentence:\n",
        "            return None\n",
        "        # get POS tags from our tagged sentence\n",
        "        pos_tags = [tag for word, tag in tagged_sentence]\n",
        "        # Get chunk tags from the trained taggers\n",
        "        chunk_pos_tags = self.chunk_tagger.tag(pos_tags)\n",
        "        chunk_tags = [chunk_tag for (pos_tag, chunk_tag) in chunk_pos_tags]\n",
        "        # Combine token, pos tag and chunk tags\n",
        "        wpc_tags = [(word, pos_tag, chunk_tag) for ((word, pos_tag), chunk_tag)\n",
        "                       in zip(tagged_sentence, chunk_tags)]\n",
        "        return conlltags2tree(wpc_tags)\n",
        "    \n",
        "# train chunker model\n",
        "ntc = NGramTagChunker(train_data)\n",
        "\n",
        "# evaluate chunker model performance\n",
        "print('Performance on training data:\\n', ntc.evaluate(train_data))\n",
        "print()\n",
        "print('Performance on test data:\\n', ntc.evaluate(test_data))\n",
        "        "
      ],
      "execution_count": 29,
      "outputs": [
        {
          "output_type": "stream",
          "text": [
            "Performance on training data:\n",
            " ChunkParse score:\n",
            "    IOB Accuracy:  89.4%%\n",
            "    Precision:     80.9%%\n",
            "    Recall:        86.2%%\n",
            "    F-Measure:     83.5%%\n",
            "\n",
            "Performance on test data:\n",
            " ChunkParse score:\n",
            "    IOB Accuracy:  90.0%%\n",
            "    Precision:     82.1%%\n",
            "    Recall:        86.3%%\n",
            "    F-Measure:     84.1%%\n",
            "CPU times: user 8.82 s, sys: 207 ms, total: 9.03 s\n",
            "Wall time: 9.05 s\n"
          ],
          "name": "stdout"
        }
      ]
    },
    {
      "cell_type": "code",
      "metadata": {
        "id": "FFtuMC0F4bvE",
        "colab": {
          "base_uri": "https://localhost:8080/"
        },
        "outputId": "357db2b9-9f40-4d74-ed74-dc5e8dac4b9c"
      },
      "source": [
        "chunk_tree = ntc.parse(nltk_pos_tagged)\n",
        "print(chunk_tree)"
      ],
      "execution_count": 30,
      "outputs": [
        {
          "output_type": "stream",
          "text": [
            "(S\n",
            "  (NP An/DT unfounded/JJ conspiracy/NN theory/NN)\n",
            "  and/CC\n",
            "  (NP pro-Kremlin/JJ disinformation/NN narrative/JJ)\n",
            "  (PP about/IN)\n",
            "  (NP\n",
            "    the/DT\n",
            "    ongoing/JJ\n",
            "    coronavirus/NN\n",
            "    pandemic.The/NN\n",
            "    first/JJ\n",
            "    cases/NNS)\n",
            "  (PP of/IN)\n",
            "  (NP COVID-19/NNP)\n",
            "  (VP were/VBD reported/VBN)\n",
            "  (PP in/IN)\n",
            "  (NP China,/NNP)\n",
            "  (PP in/IN)\n",
            "  (NP the/DT city/NN)\n",
            "  (PP of/IN)\n",
            "  (NP Wuhan/NNP)\n",
            "  (PP on/IN)\n",
            "  (NP December/NNP 31./CD)\n",
            "  (PP On/IN)\n",
            "  (NP that/DT day,/JJ China/NNP)\n",
            "  (VP alerted/VBD)\n",
            "  (NP the/DT WHO/NNP)\n",
            "  (PP about/IN)\n",
            "  (NP several/JJ cases/NNS)\n",
            "  (PP of/IN)\n",
            "  (NP pneumonia/NN)\n",
            "  (PP from/IN)\n",
            "  (NP an/DT unknown/JJ cause./NN)\n",
            "  (NP Some/DT)\n",
            "  (PP of/IN)\n",
            "  (NP those/DT infected/VBN)\n",
            "  (VP worked/VBD)\n",
            "  (PP at/IN)\n",
            "  (NP\n",
            "    the/DT\n",
            "    city's/NN\n",
            "    Huanan/NNP\n",
            "    Seafood/NNP\n",
            "    Wholesale/NNP\n",
            "    Market,/NNP)\n",
            "  (NP which/WDT)\n",
            "  (VP is/VBZ believed/VBN to/TO be/VB)\n",
            "  (NP the/DT place/NN)\n",
            "  where/WRB\n",
            "  (NP the/DT new/JJ disease/NN originated./JJ Very/NNP)\n",
            "  (VP quickly,/VBZ)\n",
            "  (NP the/DT number/NN)\n",
            "  (PP of/IN)\n",
            "  (NP those/DT infected/VBN)\n",
            "  (VP rose/VBD to/TO)\n",
            "  (PP over/IN)\n",
            "  (NP 40.On/CD January/NNP 13,/CD)\n",
            "  (NP the/DT coronavirus/NN)\n",
            "  (VP was/VBD confirmed/VBN)\n",
            "  (PP in/IN)\n",
            "  (NP Thailand,/NNP)\n",
            "  (PP in/IN)\n",
            "  (NP Japan/NNP)\n",
            "  (PP on/IN)\n",
            "  (NP January/NNP 16/CD)\n",
            "  and/CC\n",
            "  (PP in/IN)\n",
            "  (NP North/NNP Korea/NNP)\n",
            "  and/CC\n",
            "  (NP the/DT United/NNP States/NNPS)\n",
            "  (PP on/IN)\n",
            "  (NP January/NNP 20./CD)\n",
            "  (PP In/IN)\n",
            "  (NP Japan,/NNP the/DT first/JJ case/NN)\n",
            "  (PP of/IN)\n",
            "  (NP coronavirus/NN)\n",
            "  (VP was/VBD confirmed/VBN)\n",
            "  (PP in/IN)\n",
            "  (NP a/DT resident/NN)\n",
            "  (PP of/IN)\n",
            "  (NP Kanagawa/NNP Prefecture/NNP)\n",
            "  (NP who/WP)\n",
            "  (VP had/VBD travelled/VBN to/TO)\n",
            "  (NP Wuhan/NNP)\n",
            "  (PP at/IN)\n",
            "  (NP the/DT beginning/NN)\n",
            "  (PP of/IN)\n",
            "  (NP January.The/NNP first/JJ case/NN)\n",
            "  (PP in/IN)\n",
            "  (NP Italy/NNP)\n",
            "  (VP was/VBD confirmed/VBN)\n",
            "  (PP on/IN)\n",
            "  (NP January/NNP 30,/CD)\n",
            "  when/WRB\n",
            "  (NP two/CD Chinese/JJ tourists/NNS)\n",
            "  (PP in/IN)\n",
            "  (NP Rome/NNP)\n",
            "  (VP tested/VBD)\n",
            "  (NP positive/JJ)\n",
            "  (PP for/IN)\n",
            "  (NP the/DT virus./NN A/NNP week/NN)\n",
            "  later/RB\n",
            "  (NP the/DT third/JJ case/NN)\n",
            "  (VP was/VBD confirmed/VBN)\n",
            "  (PP in/IN)\n",
            "  (NP an/DT Italian/JJ man/NN)\n",
            "  (NP who/WP)\n",
            "  (VP was/VBD repatriated/VBN)\n",
            "  back/RB\n",
            "  (VP to/TO)\n",
            "  (NP Italy/NNP)\n",
            "  (PP from/IN)\n",
            "  (NP Wuhan./NNP))\n"
          ],
          "name": "stdout"
        }
      ]
    },
    {
      "cell_type": "markdown",
      "metadata": {
        "id": "5r7F7gue49Nj"
      },
      "source": [
        "# Sentiment Analysis"
      ]
    },
    {
      "cell_type": "code",
      "metadata": {
        "id": "-rNEG5z-5F4F",
        "colab": {
          "base_uri": "https://localhost:8080/"
        },
        "outputId": "bc41e512-7eaf-402a-ebef-8d06b09facde"
      },
      "source": [
        "!pip install afinn"
      ],
      "execution_count": 31,
      "outputs": [
        {
          "output_type": "stream",
          "text": [
            "Collecting afinn\n",
            "\u001b[?25l  Downloading https://files.pythonhosted.org/packages/86/e5/ffbb7ee3cca21ac6d310ac01944fb163c20030b45bda25421d725d8a859a/afinn-0.1.tar.gz (52kB)\n",
            "\r\u001b[K     |██████▎                         | 10kB 15.1MB/s eta 0:00:01\r\u001b[K     |████████████▌                   | 20kB 12.3MB/s eta 0:00:01\r\u001b[K     |██████████████████▊             | 30kB 6.9MB/s eta 0:00:01\r\u001b[K     |█████████████████████████       | 40kB 6.5MB/s eta 0:00:01\r\u001b[K     |███████████████████████████████▏| 51kB 4.4MB/s eta 0:00:01\r\u001b[K     |████████████████████████████████| 61kB 3.1MB/s \n",
            "\u001b[?25hBuilding wheels for collected packages: afinn\n",
            "  Building wheel for afinn (setup.py) ... \u001b[?25l\u001b[?25hdone\n",
            "  Created wheel for afinn: filename=afinn-0.1-cp36-none-any.whl size=53453 sha256=88aeb71cf57ce9c4a3422f87641882b9670ed3c99f51040dff169b2517f43bbe\n",
            "  Stored in directory: /root/.cache/pip/wheels/b5/1c/de/428301f3333ca509dcf20ff358690eb23a1388fbcbbde008b2\n",
            "Successfully built afinn\n",
            "Installing collected packages: afinn\n",
            "Successfully installed afinn-0.1\n"
          ],
          "name": "stdout"
        }
      ]
    },
    {
      "cell_type": "code",
      "metadata": {
        "id": "4O6IhsSQ5dJI",
        "colab": {
          "base_uri": "https://localhost:8080/",
          "height": 204
        },
        "outputId": "bed8b1ef-6401-4642-f1b3-8f85a27dd00e"
      },
      "source": [
        "from afinn import Afinn\n",
        "af = Afinn()\n",
        "\n",
        "# compute sentiment scores (polarity) and labels\n",
        "sentiment_scores = [af.score(article) for article in corpus]\n",
        "sentiment_category = ['positive' if score > 0 \n",
        "                          else 'negative' if score < 0 \n",
        "                          else 'neutral' \n",
        "                          for score in sentiment_scores]\n",
        "\n",
        "# sentiment statistics per news category\n",
        "dfA = pd.DataFrame([list(df['Text']), sentiment_scores, sentiment_category]).T\n",
        "dfA.columns = ['Text', 'sentiment_score', 'sentiment_category']\n",
        "dfA['sentiment_score'] = dfA.sentiment_score.astype('float')\n",
        "dfA.head()"
      ],
      "execution_count": 32,
      "outputs": [
        {
          "output_type": "execute_result",
          "data": {
            "text/html": [
              "<div>\n",
              "<style scoped>\n",
              "    .dataframe tbody tr th:only-of-type {\n",
              "        vertical-align: middle;\n",
              "    }\n",
              "\n",
              "    .dataframe tbody tr th {\n",
              "        vertical-align: top;\n",
              "    }\n",
              "\n",
              "    .dataframe thead th {\n",
              "        text-align: right;\n",
              "    }\n",
              "</style>\n",
              "<table border=\"1\" class=\"dataframe\">\n",
              "  <thead>\n",
              "    <tr style=\"text-align: right;\">\n",
              "      <th></th>\n",
              "      <th>Text</th>\n",
              "      <th>sentiment_score</th>\n",
              "      <th>sentiment_category</th>\n",
              "    </tr>\n",
              "  </thead>\n",
              "  <tbody>\n",
              "    <tr>\n",
              "      <th>0</th>\n",
              "      <td>An unfounded conspiracy theory and pro-Kremlin...</td>\n",
              "      <td>-4.0</td>\n",
              "      <td>negative</td>\n",
              "    </tr>\n",
              "    <tr>\n",
              "      <th>1</th>\n",
              "      <td>To all my wonderful people in Liberia: While y...</td>\n",
              "      <td>-8.0</td>\n",
              "      <td>negative</td>\n",
              "    </tr>\n",
              "    <tr>\n",
              "      <th>2</th>\n",
              "      <td>Microsoft has recently patented an invention t...</td>\n",
              "      <td>-1.0</td>\n",
              "      <td>negative</td>\n",
              "    </tr>\n",
              "    <tr>\n",
              "      <th>3</th>\n",
              "      <td>We are moving towards a totalitarian state of ...</td>\n",
              "      <td>3.0</td>\n",
              "      <td>positive</td>\n",
              "    </tr>\n",
              "    <tr>\n",
              "      <th>4</th>\n",
              "      <td>A top U.S. scientist and research pioneer Dr. ...</td>\n",
              "      <td>-25.0</td>\n",
              "      <td>negative</td>\n",
              "    </tr>\n",
              "  </tbody>\n",
              "</table>\n",
              "</div>"
            ],
            "text/plain": [
              "                                                Text  ...  sentiment_category\n",
              "0  An unfounded conspiracy theory and pro-Kremlin...  ...            negative\n",
              "1  To all my wonderful people in Liberia: While y...  ...            negative\n",
              "2  Microsoft has recently patented an invention t...  ...            negative\n",
              "3  We are moving towards a totalitarian state of ...  ...            positive\n",
              "4  A top U.S. scientist and research pioneer Dr. ...  ...            negative\n",
              "\n",
              "[5 rows x 3 columns]"
            ]
          },
          "metadata": {
            "tags": []
          },
          "execution_count": 32
        }
      ]
    },
    {
      "cell_type": "code",
      "metadata": {
        "id": "zeyN-Ebd5kV0",
        "colab": {
          "base_uri": "https://localhost:8080/",
          "height": 204
        },
        "outputId": "a72103c4-996d-431f-c68d-dc848cb7661b"
      },
      "source": [
        "dfA.groupby(by=['sentiment_category']).describe()"
      ],
      "execution_count": 33,
      "outputs": [
        {
          "output_type": "execute_result",
          "data": {
            "text/html": [
              "<div>\n",
              "<style scoped>\n",
              "    .dataframe tbody tr th:only-of-type {\n",
              "        vertical-align: middle;\n",
              "    }\n",
              "\n",
              "    .dataframe tbody tr th {\n",
              "        vertical-align: top;\n",
              "    }\n",
              "\n",
              "    .dataframe thead tr th {\n",
              "        text-align: left;\n",
              "    }\n",
              "\n",
              "    .dataframe thead tr:last-of-type th {\n",
              "        text-align: right;\n",
              "    }\n",
              "</style>\n",
              "<table border=\"1\" class=\"dataframe\">\n",
              "  <thead>\n",
              "    <tr>\n",
              "      <th></th>\n",
              "      <th colspan=\"8\" halign=\"left\">sentiment_score</th>\n",
              "    </tr>\n",
              "    <tr>\n",
              "      <th></th>\n",
              "      <th>count</th>\n",
              "      <th>mean</th>\n",
              "      <th>std</th>\n",
              "      <th>min</th>\n",
              "      <th>25%</th>\n",
              "      <th>50%</th>\n",
              "      <th>75%</th>\n",
              "      <th>max</th>\n",
              "    </tr>\n",
              "    <tr>\n",
              "      <th>sentiment_category</th>\n",
              "      <th></th>\n",
              "      <th></th>\n",
              "      <th></th>\n",
              "      <th></th>\n",
              "      <th></th>\n",
              "      <th></th>\n",
              "      <th></th>\n",
              "      <th></th>\n",
              "    </tr>\n",
              "  </thead>\n",
              "  <tbody>\n",
              "    <tr>\n",
              "      <th>negative</th>\n",
              "      <td>3437.0</td>\n",
              "      <td>-27.713995</td>\n",
              "      <td>28.880277</td>\n",
              "      <td>-337.0</td>\n",
              "      <td>-35.0</td>\n",
              "      <td>-19.0</td>\n",
              "      <td>-10.0</td>\n",
              "      <td>-1.0</td>\n",
              "    </tr>\n",
              "    <tr>\n",
              "      <th>neutral</th>\n",
              "      <td>80.0</td>\n",
              "      <td>0.000000</td>\n",
              "      <td>0.000000</td>\n",
              "      <td>0.0</td>\n",
              "      <td>0.0</td>\n",
              "      <td>0.0</td>\n",
              "      <td>0.0</td>\n",
              "      <td>0.0</td>\n",
              "    </tr>\n",
              "    <tr>\n",
              "      <th>positive</th>\n",
              "      <td>1001.0</td>\n",
              "      <td>12.215784</td>\n",
              "      <td>12.956982</td>\n",
              "      <td>1.0</td>\n",
              "      <td>4.0</td>\n",
              "      <td>8.0</td>\n",
              "      <td>16.0</td>\n",
              "      <td>125.0</td>\n",
              "    </tr>\n",
              "  </tbody>\n",
              "</table>\n",
              "</div>"
            ],
            "text/plain": [
              "                   sentiment_score                        ...                   \n",
              "                             count       mean        std  ...   50%   75%    max\n",
              "sentiment_category                                        ...                   \n",
              "negative                    3437.0 -27.713995  28.880277  ... -19.0 -10.0   -1.0\n",
              "neutral                       80.0   0.000000   0.000000  ...   0.0   0.0    0.0\n",
              "positive                    1001.0  12.215784  12.956982  ...   8.0  16.0  125.0\n",
              "\n",
              "[3 rows x 8 columns]"
            ]
          },
          "metadata": {
            "tags": []
          },
          "execution_count": 33
        }
      ]
    },
    {
      "cell_type": "code",
      "metadata": {
        "id": "4biz6pA6qSzH"
      },
      "source": [
        "dfA.groupby(by=['CONTINENT']).describe().to_csv(\"affin continentwise description.csv\")"
      ],
      "execution_count": null,
      "outputs": []
    },
    {
      "cell_type": "code",
      "metadata": {
        "id": "E9NSNXSUd8x5"
      },
      "source": [
        "import seaborn as sns"
      ],
      "execution_count": 34,
      "outputs": []
    },
    {
      "cell_type": "code",
      "metadata": {
        "id": "ktHSwpJp5xE5",
        "colab": {
          "base_uri": "https://localhost:8080/",
          "height": 403
        },
        "outputId": "98edfd03-9131-481b-b43c-6574fb639ec3"
      },
      "source": [
        "plt.style.use(\"seaborn\")\n",
        "f, (ax1, ax2) = plt.subplots(1, 2, figsize=(30, 8))\n",
        "sp = sns.stripplot(x='sentiment_category', y='sentiment_score', \n",
        "                   hue='sentiment_category', data=dfA, ax=ax1)\n",
        "bp = sns.boxplot(x='sentiment_category', y='sentiment_score', \n",
        "                 hue='sentiment_category', data=dfA, palette='Set2', ax=ax2)\n",
        "t = f.suptitle('News Sentiment Visualizations', fontsize=20)"
      ],
      "execution_count": 35,
      "outputs": [
        {
          "output_type": "display_data",
          "data": {
            "image/png": "[encoded data removed]",
            "text/plain": [
              "<Figure size 2160x576 with 2 Axes>"
            ]
          },
          "metadata": {
            "tags": []
          }
        }
      ]
    },
    {
      "cell_type": "code",
      "metadata": {
        "id": "I2FqkgPFQOsY",
        "colab": {
          "base_uri": "https://localhost:8080/",
          "height": 435
        },
        "outputId": "97f6e3b1-100f-435b-c05c-1ab83949c763"
      },
      "source": [
        "# frequency of sentiment labels\n",
        "#plt.figure(figsize=(200,20))\n",
        "fc = sns.catplot(x=\"sentiment_category\", hue=\"sentiment_category\", \n",
        "                 data=dfA, kind=\"count\",\n",
        "                 palette={'negative': 'crimson',\n",
        "                          'positive': 'orange',\n",
        "                          'neutral': 'aqua'}, height=7, aspect=3)"
      ],
      "execution_count": 37,
      "outputs": [
        {
          "output_type": "display_data",
          "data": {
            "image/png": "[encoded data removed]",
            "text/plain": [
              "<Figure size 1512x504 with 1 Axes>"
            ]
          },
          "metadata": {
            "tags": []
          }
        }
      ]
    },
    {
      "cell_type": "markdown",
      "metadata": {
        "id": "rr7_Oihkc4RZ"
      },
      "source": [
        "Text Blob"
      ]
    },
    {
      "cell_type": "code",
      "metadata": {
        "id": "1y8Gcvq-QYGs",
        "colab": {
          "base_uri": "https://localhost:8080/",
          "height": 204
        },
        "outputId": "79886a81-23f8-4bf7-8e30-45ceb4861ef6"
      },
      "source": [
        "from textblob import TextBlob\n",
        "\n",
        "# computer sentiment scores (polarty) and labels\n",
        "sentiment_scores_tb = [round(TextBlob(article).sentiment.polarity, 3) for article in df['clean_text']]\n",
        "sentiment_category_tb = ['positive' if score > 0 \n",
        "                          else 'negative' if score < 0 \n",
        "                          else 'neutral' \n",
        "                          for score in sentiment_scores_tb]\n",
        "\n",
        "# sentiment statistics per news category\n",
        "dfT = pd.DataFrame([list(df['Text']), sentiment_scores_tb, sentiment_category_tb]).T\n",
        "dfT.columns = ['Text', 'sentiment_score', 'sentiment_category']\n",
        "dfT['sentiment_score'] = dfT.sentiment_score.astype('float')\n",
        "dfT.head()\n",
        "#df.groupby(by=['COUNTRY']).describe()"
      ],
      "execution_count": 38,
      "outputs": [
        {
          "output_type": "execute_result",
          "data": {
            "text/html": [
              "<div>\n",
              "<style scoped>\n",
              "    .dataframe tbody tr th:only-of-type {\n",
              "        vertical-align: middle;\n",
              "    }\n",
              "\n",
              "    .dataframe tbody tr th {\n",
              "        vertical-align: top;\n",
              "    }\n",
              "\n",
              "    .dataframe thead th {\n",
              "        text-align: right;\n",
              "    }\n",
              "</style>\n",
              "<table border=\"1\" class=\"dataframe\">\n",
              "  <thead>\n",
              "    <tr style=\"text-align: right;\">\n",
              "      <th></th>\n",
              "      <th>Text</th>\n",
              "      <th>sentiment_score</th>\n",
              "      <th>sentiment_category</th>\n",
              "    </tr>\n",
              "  </thead>\n",
              "  <tbody>\n",
              "    <tr>\n",
              "      <th>0</th>\n",
              "      <td>An unfounded conspiracy theory and pro-Kremlin...</td>\n",
              "      <td>0.104</td>\n",
              "      <td>positive</td>\n",
              "    </tr>\n",
              "    <tr>\n",
              "      <th>1</th>\n",
              "      <td>To all my wonderful people in Liberia: While y...</td>\n",
              "      <td>0.050</td>\n",
              "      <td>positive</td>\n",
              "    </tr>\n",
              "    <tr>\n",
              "      <th>2</th>\n",
              "      <td>Microsoft has recently patented an invention t...</td>\n",
              "      <td>0.123</td>\n",
              "      <td>positive</td>\n",
              "    </tr>\n",
              "    <tr>\n",
              "      <th>3</th>\n",
              "      <td>We are moving towards a totalitarian state of ...</td>\n",
              "      <td>-0.074</td>\n",
              "      <td>negative</td>\n",
              "    </tr>\n",
              "    <tr>\n",
              "      <th>4</th>\n",
              "      <td>A top U.S. scientist and research pioneer Dr. ...</td>\n",
              "      <td>0.045</td>\n",
              "      <td>positive</td>\n",
              "    </tr>\n",
              "  </tbody>\n",
              "</table>\n",
              "</div>"
            ],
            "text/plain": [
              "                                                Text  ...  sentiment_category\n",
              "0  An unfounded conspiracy theory and pro-Kremlin...  ...            positive\n",
              "1  To all my wonderful people in Liberia: While y...  ...            positive\n",
              "2  Microsoft has recently patented an invention t...  ...            positive\n",
              "3  We are moving towards a totalitarian state of ...  ...            negative\n",
              "4  A top U.S. scientist and research pioneer Dr. ...  ...            positive\n",
              "\n",
              "[5 rows x 3 columns]"
            ]
          },
          "metadata": {
            "tags": []
          },
          "execution_count": 38
        }
      ]
    },
    {
      "cell_type": "code",
      "metadata": {
        "id": "RFwATPS9jWAe"
      },
      "source": [
        "dfT.to_csv('textblobresults.csv')"
      ],
      "execution_count": null,
      "outputs": []
    },
    {
      "cell_type": "code",
      "metadata": {
        "id": "7F5RdnA8jeIJ",
        "colab": {
          "base_uri": "https://localhost:8080/",
          "height": 204
        },
        "outputId": "dd138e4c-7e6f-4495-c93f-a7da01b80d39"
      },
      "source": [
        "dfT.groupby(by=['sentiment_category']).describe()"
      ],
      "execution_count": 39,
      "outputs": [
        {
          "output_type": "execute_result",
          "data": {
            "text/html": [
              "<div>\n",
              "<style scoped>\n",
              "    .dataframe tbody tr th:only-of-type {\n",
              "        vertical-align: middle;\n",
              "    }\n",
              "\n",
              "    .dataframe tbody tr th {\n",
              "        vertical-align: top;\n",
              "    }\n",
              "\n",
              "    .dataframe thead tr th {\n",
              "        text-align: left;\n",
              "    }\n",
              "\n",
              "    .dataframe thead tr:last-of-type th {\n",
              "        text-align: right;\n",
              "    }\n",
              "</style>\n",
              "<table border=\"1\" class=\"dataframe\">\n",
              "  <thead>\n",
              "    <tr>\n",
              "      <th></th>\n",
              "      <th colspan=\"8\" halign=\"left\">sentiment_score</th>\n",
              "    </tr>\n",
              "    <tr>\n",
              "      <th></th>\n",
              "      <th>count</th>\n",
              "      <th>mean</th>\n",
              "      <th>std</th>\n",
              "      <th>min</th>\n",
              "      <th>25%</th>\n",
              "      <th>50%</th>\n",
              "      <th>75%</th>\n",
              "      <th>max</th>\n",
              "    </tr>\n",
              "    <tr>\n",
              "      <th>sentiment_category</th>\n",
              "      <th></th>\n",
              "      <th></th>\n",
              "      <th></th>\n",
              "      <th></th>\n",
              "      <th></th>\n",
              "      <th></th>\n",
              "      <th></th>\n",
              "      <th></th>\n",
              "    </tr>\n",
              "  </thead>\n",
              "  <tbody>\n",
              "    <tr>\n",
              "      <th>negative</th>\n",
              "      <td>1619.0</td>\n",
              "      <td>-0.043172</td>\n",
              "      <td>0.038245</td>\n",
              "      <td>-0.262</td>\n",
              "      <td>-0.0595</td>\n",
              "      <td>-0.033</td>\n",
              "      <td>-0.015</td>\n",
              "      <td>-0.001</td>\n",
              "    </tr>\n",
              "    <tr>\n",
              "      <th>neutral</th>\n",
              "      <td>31.0</td>\n",
              "      <td>0.000000</td>\n",
              "      <td>0.000000</td>\n",
              "      <td>-0.000</td>\n",
              "      <td>0.0000</td>\n",
              "      <td>0.000</td>\n",
              "      <td>-0.000</td>\n",
              "      <td>-0.000</td>\n",
              "    </tr>\n",
              "    <tr>\n",
              "      <th>positive</th>\n",
              "      <td>2868.0</td>\n",
              "      <td>0.056508</td>\n",
              "      <td>0.042395</td>\n",
              "      <td>0.001</td>\n",
              "      <td>0.0250</td>\n",
              "      <td>0.048</td>\n",
              "      <td>0.079</td>\n",
              "      <td>0.312</td>\n",
              "    </tr>\n",
              "  </tbody>\n",
              "</table>\n",
              "</div>"
            ],
            "text/plain": [
              "                   sentiment_score                      ...                     \n",
              "                             count      mean       std  ...    50%    75%    max\n",
              "sentiment_category                                      ...                     \n",
              "negative                    1619.0 -0.043172  0.038245  ... -0.033 -0.015 -0.001\n",
              "neutral                       31.0  0.000000  0.000000  ...  0.000 -0.000 -0.000\n",
              "positive                    2868.0  0.056508  0.042395  ...  0.048  0.079  0.312\n",
              "\n",
              "[3 rows x 8 columns]"
            ]
          },
          "metadata": {
            "tags": []
          },
          "execution_count": 39
        }
      ]
    },
    {
      "cell_type": "code",
      "metadata": {
        "id": "FAJsAp8Cv2De"
      },
      "source": [
        "dfA.groupby(by=['CONTINENT']).describe().to_csv(\"textblob continentwise description.csv\")"
      ],
      "execution_count": null,
      "outputs": []
    },
    {
      "cell_type": "code",
      "metadata": {
        "id": "L4cZm-JJQiXq",
        "colab": {
          "base_uri": "https://localhost:8080/",
          "height": 383
        },
        "outputId": "514555f2-50f7-4721-d63b-dad3882bbd00"
      },
      "source": [
        "fc = sns.catplot(x=\"sentiment_category\", hue=\"sentiment_category\", \n",
        "                    data=dfT, kind=\"count\", \n",
        "                    palette={'negative': 'crimson',\n",
        "                             'positive': 'orange',\n",
        "                             'neutral': 'aqua'}, height=5, aspect=1.5)"
      ],
      "execution_count": 40,
      "outputs": [
        {
          "output_type": "display_data",
          "data": {
            "image/png": "[encoded data removed]",
            "text/plain": [
              "<Figure size 540x360 with 1 Axes>"
            ]
          },
          "metadata": {
            "tags": []
          }
        }
      ]
    },
    {
      "cell_type": "markdown",
      "metadata": {
        "id": "ANJvdexBc_Ly"
      },
      "source": [
        "Comparison"
      ]
    },
    {
      "cell_type": "code",
      "metadata": {
        "id": "encShvm5X8ro"
      },
      "source": [
        "from sklearn.metrics import confusion_matrix\n",
        "import seaborn as sns\n",
        "import matplotlib.pyplot as plt\n",
        "\n",
        "def plot_confusion_matrix(y_true, y_pred, ax, vmax=None,\n",
        "                          normed=True, title='Confusion matrix',\n",
        "                          class_names=None, labels=None):\n",
        "    cm = confusion_matrix(y_true, y_pred)\n",
        "    if normed:\n",
        "        cm = cm.astype('float') / cm.sum(axis=1)[:, np.newaxis]\n",
        "    sns.heatmap(cm, vmax=vmax, annot=True, square=True, ax=ax, \n",
        "                cmap='Blues', cbar=False, linecolor='k',\n",
        "               linewidths=1, xticklabels=class_names)\n",
        "    ax.set_title(title, fontsize=16)\n",
        "    if not labels:\n",
        "        labels=['True Labels', 'Predicted Labels']\n",
        "\n",
        "    ax.set_ylabel(labels[0], fontsize=12)\n",
        "    ax.set_xlabel(labels[1], y=1.10, fontsize=12)\n",
        "    ax.set_yticklabels(class_names, rotation=0)"
      ],
      "execution_count": 41,
      "outputs": []
    },
    {
      "cell_type": "code",
      "metadata": {
        "id": "lV8Cgc6tbRQj",
        "colab": {
          "base_uri": "https://localhost:8080/",
          "height": 408
        },
        "outputId": "bc56695d-fdf3-44d1-ecca-9e8c75b8ba2d"
      },
      "source": [
        "fig, (axis1) = plt.subplots(nrows=1, ncols=1, figsize=(6, 6))\n",
        "plot_confusion_matrix(sentiment_category, sentiment_category_tb, ax=axis1,\n",
        "                      class_names=['negative', 'neutral', 'positive'],\n",
        "                      labels=['AFINN', 'TextBlob'])"
      ],
      "execution_count": 42,
      "outputs": [
        {
          "output_type": "display_data",
          "data": {
            "image/png": "[encoded data removed]",
            "text/plain": [
              "<Figure size 432x432 with 1 Axes>"
            ]
          },
          "metadata": {
            "tags": []
          }
        }
      ]
    },
    {
      "cell_type": "code",
      "metadata": {
        "id": "6peB7B2GbUIc"
      },
      "source": [
        ""
      ],
      "execution_count": null,
      "outputs": []
    }
  ]
}